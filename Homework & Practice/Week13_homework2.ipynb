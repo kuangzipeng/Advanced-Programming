{
 "cells": [
  {
   "cell_type": "code",
   "execution_count": 6,
   "metadata": {},
   "outputs": [],
   "source": [
    "import jieba\n",
    "import jieba.posseg as pseg\n",
    "from jieba import analyse\n",
    "import re\n",
    "\n",
    "\n",
    "\n",
    "\n",
    "def zh(text):    #匹配中文字符\n",
    "    results=re.compile('[\\u4e00-\\u9fa5]+').findall(text)\n",
    "    zh=''.join(results) \n",
    "    return zh\n",
    "\n",
    "def tag(zh):    #词性标注\n",
    "    words=pseg.cut(zh)\n",
    "    word_tagged=[]\n",
    "    for w in words:\n",
    "        word_tagged.append(w)\n",
    "    return word_tagged\n",
    " \n",
    "def count(word_tagged):    \n",
    "    pos_count = {} #统计各词性个数\n",
    "    for (k,v) in word_tagged:\n",
    "        if v not in pos_count:\n",
    "            pos_count[v] = 1\n",
    "        else:\n",
    "            pos_count[v] += 1\n",
    "    tagged_count = len(word_tagged)\n",
    "    pos_sort = {}\n",
    "    for v in pos_count:\n",
    "        pos_sort[v] = pos_count[v]/tagged_count*100\n",
    "        pos_sort[v] = round(pos_sort[v],5)\n",
    "    return pos_sort    \n",
    "    \n",
    "with open(\"D:\\Advanced-Programming\\The_three_body_problem_full\\《地球往事三部曲》全集.txt\",encoding='utf-8')as f:\n",
    "    text=f.read().encode()\n",
    "text=text.decode('utf-8')\n",
    "\n",
    "zh = zh(text)\n",
    "word_tagged = tag(zh)\n",
    "pos_sort = count(word_tagged)\n"
   ]
  },
  {
   "cell_type": "code",
   "execution_count": 7,
   "metadata": {},
   "outputs": [
    {
     "name": "stdout",
     "output_type": "stream",
     "text": [
      "各项占比是：(%) \n",
      "\n"
     ]
    },
    {
     "data": {
      "text/plain": [
       "{'n': 20.0938,\n",
       " 'v': 20.868,\n",
       " 'm': 4.68351,\n",
       " 'nr': 2.14616,\n",
       " 'p': 4.61656,\n",
       " 'y': 0.52433,\n",
       " 'c': 3.7779,\n",
       " 'b': 0.50278,\n",
       " 'd': 7.24032,\n",
       " 'vn': 1.12744,\n",
       " 'r': 9.12117,\n",
       " 'uj': 7.76237,\n",
       " 'q': 0.5209,\n",
       " 'a': 2.92436,\n",
       " 'vg': 0.03185,\n",
       " 'f': 2.94458,\n",
       " 'ns': 1.12935,\n",
       " 'nz': 0.54913,\n",
       " 'u': 0.29545,\n",
       " 'ul': 2.2461,\n",
       " 'l': 0.90008,\n",
       " 't': 1.25409,\n",
       " 'uv': 0.34447,\n",
       " 'k': 0.19074,\n",
       " 'ad': 0.35916,\n",
       " 'ug': 0.18425,\n",
       " 'zg': 0.27428,\n",
       " 's': 0.61245,\n",
       " 'mq': 0.07095,\n",
       " 'z': 0.35954,\n",
       " 'j': 0.1152,\n",
       " 'nrfg': 0.15316,\n",
       " 'ud': 0.11101,\n",
       " 'i': 0.59262,\n",
       " 'df': 0.03738,\n",
       " 'e': 0.033,\n",
       " 'uz': 0.5003,\n",
       " 'nt': 0.08106,\n",
       " 'nrt': 0.26665,\n",
       " 'ng': 0.22888,\n",
       " 'o': 0.02613,\n",
       " 'an': 0.11063,\n",
       " 'rr': 0.00839,\n",
       " 'vd': 0.01144,\n",
       " 'g': 0.0288,\n",
       " 'x': 0.00267,\n",
       " 'rz': 0.00515,\n",
       " 'tg': 0.0082,\n",
       " 'ag': 0.00801,\n",
       " 'yg': 0.00076,\n",
       " 'h': 0.00343,\n",
       " 'dg': 0.00248,\n",
       " 'vi': 0.00076,\n",
       " 'rg': 0.00248,\n",
       " 'vq': 0.00343,\n",
       " 'mg': 0.00191}"
      ]
     },
     "execution_count": 7,
     "metadata": {},
     "output_type": "execute_result"
    }
   ],
   "source": [
    "print(\"各项占比是：(%)\",'\\n')\n",
    "pos_sort"
   ]
  },
  {
   "cell_type": "code",
   "execution_count": null,
   "metadata": {},
   "outputs": [],
   "source": []
  }
 ],
 "metadata": {
  "kernelspec": {
   "display_name": "Python 3",
   "language": "python",
   "name": "python3"
  },
  "language_info": {
   "codemirror_mode": {
    "name": "ipython",
    "version": 3
   },
   "file_extension": ".py",
   "mimetype": "text/x-python",
   "name": "python",
   "nbconvert_exporter": "python",
   "pygments_lexer": "ipython3",
   "version": "3.7.0"
  }
 },
 "nbformat": 4,
 "nbformat_minor": 2
}
