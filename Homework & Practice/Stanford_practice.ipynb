{
 "cells": [
  {
   "cell_type": "code",
   "execution_count": 3,
   "metadata": {},
   "outputs": [
    {
     "name": "stdout",
     "output_type": "stream",
     "text": [
      "Named Entities1: [('Show', 'O'), ('your', 'O'), ('pride', 'O'), ('with', 'O'), ('this', 'O'), ('acrylic', 'O'), ('trophy', 'O'), ('adorned', 'O'), ('with', 'O'), ('your', 'O'), ('name', 'O'), ('and', 'O'), ('the', 'O'), ('AECOM', 'ORGANIZATION'), ('logo', 'O'), ('engraved', 'O'), ('prominently', 'O'), ('on', 'O'), ('the', 'O'), ('front', 'O'), (',', 'O'), ('and', 'O'), ('featuring', 'O'), ('WTC1', 'O'), ('in', 'O'), ('New', 'CITY'), ('York', 'CITY'), ('City', 'CITY'), (',', 'O'), ('New', 'STATE_OR_PROVINCE'), ('York', 'STATE_OR_PROVINCE'), (',', 'O'), ('USA', 'COUNTRY'), ('.', 'O')]\n"
     ]
    }
   ],
   "source": [
    "from stanfordcorenlp import StanfordCoreNLP\n",
    "\n",
    "nlp = StanfordCoreNLP(r'D:\\Advanced-Programming\\stanford-corenlp-master\\stanfordnlp')\n",
    "\n",
    "sentence = 'Show your pride with this acrylic trophy adorned with your name and the AECOM logo engraved prominently on the front, and featuring WTC1 in New York City, New York, USA.'\n",
    "\n",
    "print ('Named Entities1:', nlp.ner(sentence))\n",
    "\n",
    "nlp.close() \n"
   ]
  },
  {
   "cell_type": "code",
   "execution_count": null,
   "metadata": {},
   "outputs": [
    {
     "name": "stdout",
     "output_type": "stream",
     "text": [
      "四： (ROOT\r\n",
      "  (IP\r\n",
      "    (VP (VV 欢迎)\r\n",
      "      (NP\r\n",
      "        (CP\r\n",
      "          (IP\r\n",
      "            (VP (VV 来到)\r\n",
      "              (LCP\r\n",
      "                (NP (NN 宇宙) (NN 中心) (NN 五道口))\r\n",
      "                (LC 旁))))\r\n",
      "          (DEC 的))\r\n",
      "        (NP (NR 北京) (NN 语言) (NN 大学))))\r\n",
      "    (PU ！)))\n",
      "(ROOT\n",
      "  (IP\n",
      "    (VP\n",
      "      (VV 欢迎)\n",
      "      (NP\n",
      "        (CP\n",
      "          (IP\n",
      "            (VP (VV 来到) (LCP (NP (NN 宇宙) (NN 中心) (NN 五道口)) (LC 旁))))\n",
      "          (DEC 的))\n",
      "        (NP (NR 北京) (NN 语言) (NN 大学))))\n",
      "    (PU ！)))\n"
     ]
    }
   ],
   "source": [
    "from stanfordcorenlp import StanfordCoreNLP\n",
    "from nltk.tree import Tree\n",
    "from nltk.tree import ParentedTree as PT\n",
    "from nltk.treeprettyprinter import TreePrettyPrinter\n",
    "sentence = '欢迎来到宇宙中心五道口旁的北京语言大学！'\n",
    "\n",
    "with StanfordCoreNLP(r'D:\\Advanced-Programming\\stanford-corenlp-master\\stanfordnlp', lang='zh') as nlp:\n",
    "   # print('一：',nlp.word_tokenize(sentence))\n",
    "   # print('二：',nlp.pos_tag(sentence))\n",
    "   # print('三：',nlp.ner(sentence))\n",
    "    print('四：',nlp.parse(sentence))\n",
    "   # print('五：',nlp.dependency_parse(sentence))\n",
    "    tree=Tree.fromstring(nlp.parse(sentence))\n",
    "    print(tree)\n",
    "    tree.draw()\n",
    "\n"
   ]
  },
  {
   "cell_type": "code",
   "execution_count": null,
   "metadata": {},
   "outputs": [],
   "source": []
  },
  {
   "cell_type": "code",
   "execution_count": null,
   "metadata": {},
   "outputs": [],
   "source": [
    "from stanfordcorenlp import StanfordCoreNLP\n",
    "from nltk.tree import ParentedTree as PT\n",
    "from nltk.treeprettyprinter import TreePrettyPrinter\n",
    "corenlp = StanfordCoreNLP('rD:\\Advanced-Programming\\stanford-corenlp-master\\stanfordnlp')\n",
    "text=\"I go to school everyday.\"\n",
    "tstr = corenlp.parse(text)\n",
    "\n",
    "print(tstr)\n",
    "pt = PT.fromstring(tstr)"
   ]
  },
  {
   "cell_type": "code",
   "execution_count": null,
   "metadata": {},
   "outputs": [],
   "source": []
  }
 ],
 "metadata": {
  "kernelspec": {
   "display_name": "Python 3",
   "language": "python",
   "name": "python3"
  },
  "language_info": {
   "codemirror_mode": {
    "name": "ipython",
    "version": 3
   },
   "file_extension": ".py",
   "mimetype": "text/x-python",
   "name": "python",
   "nbconvert_exporter": "python",
   "pygments_lexer": "ipython3",
   "version": "3.7.0"
  }
 },
 "nbformat": 4,
 "nbformat_minor": 2
}
