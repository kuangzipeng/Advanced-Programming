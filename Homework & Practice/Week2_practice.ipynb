{
 "cells": [
  {
   "cell_type": "code",
   "execution_count": 102,
   "metadata": {},
   "outputs": [
    {
     "name": "stdout",
     "output_type": "stream",
     "text": [
      "65 90\n",
      "49\n"
     ]
    }
   ],
   "source": [
    "print(ord(\"A\"),ord(\"Z\"))"
   ]
  },
  {
   "cell_type": "code",
   "execution_count": 4,
   "metadata": {},
   "outputs": [
    {
     "name": "stdout",
     "output_type": "stream",
     "text": [
      "97 122\n"
     ]
    }
   ],
   "source": [
    "print(ord('a'),ord('z'))"
   ]
  },
  {
   "cell_type": "code",
   "execution_count": 24,
   "metadata": {},
   "outputs": [
    {
     "name": "stdout",
     "output_type": "stream",
     "text": [
      "A - a\n",
      "B - b\n",
      "C - c\n",
      "D - d\n",
      "E - e\n",
      "F - f\n",
      "G - g\n",
      "H - h\n",
      "I - i\n",
      "J - j\n",
      "K - k\n",
      "L - l\n",
      "M - m\n",
      "N - n\n",
      "O - o\n",
      "P - p\n",
      "Q - q\n",
      "R - r\n",
      "S - s\n",
      "T - t\n",
      "U - u\n",
      "V - v\n",
      "W - w\n",
      "X - x\n",
      "Y - y\n",
      "Z - z\n"
     ]
    }
   ],
   "source": [
    "x=65\n",
    "lis=[]\n",
    "for x in range(65,91):\n",
    "    tup = (chr(x),chr(x+32))\n",
    "    lis.append(tup)\n",
    "for i in range (26):\n",
    "    for x,y in  zip (lis[i][0],lis[i][1]):\n",
    "        print(x,'-',y)"
   ]
  },
  {
   "cell_type": "code",
   "execution_count": null,
   "metadata": {},
   "outputs": [],
   "source": []
  },
  {
   "cell_type": "code",
   "execution_count": 112,
   "metadata": {},
   "outputs": [],
   "source": [
    "import os \n",
    "filename = []\n",
    "for i in range(1,51):\n",
    "    name=\"./file\"+str(i)\n",
    "    filename.append(name)\n",
    "path = r\"C:\\Download\"\n",
    "for name in filename:\n",
    "    os.mkdir(path+name)\n"
   ]
  },
  {
   "cell_type": "code",
   "execution_count": null,
   "metadata": {},
   "outputs": [],
   "source": []
  }
 ],
 "metadata": {
  "kernelspec": {
   "display_name": "Python 3",
   "language": "python",
   "name": "python3"
  },
  "language_info": {
   "codemirror_mode": {
    "name": "ipython",
    "version": 3
   },
   "file_extension": ".py",
   "mimetype": "text/x-python",
   "name": "python",
   "nbconvert_exporter": "python",
   "pygments_lexer": "ipython3",
   "version": "3.7.0"
  }
 },
 "nbformat": 4,
 "nbformat_minor": 2
}
