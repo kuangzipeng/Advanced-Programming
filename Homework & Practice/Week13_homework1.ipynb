{
 "cells": [
  {
   "cell_type": "code",
   "execution_count": 7,
   "metadata": {},
   "outputs": [
    {
     "name": "stdout",
     "output_type": "stream",
     "text": [
      "在Book 1.rtf中，各项占比为：\n",
      "名词占比: 4.42%\n",
      "形容词占比: 1.60%\n",
      "副词占比: 0.50%\n",
      "--------------------------------\n",
      "在Book 3.rtf中，各项占比为：\n",
      "名词占比: 3.49%\n",
      "形容词占比: 1.42%\n",
      "副词占比: 0.40%\n"
     ]
    }
   ],
   "source": [
    "import nltk\n",
    "from nltk.tokenize import word_tokenize\n",
    "\n",
    "def word_filter(text):\n",
    "    \n",
    "    word_list = nltk.word_tokenize(text)\n",
    "    english_punctuations = [',', '.', ':', ';', '?', '(', ')', '[', ']', '&', '!', '*', '@', '#', '$', '%']\n",
    "    word_list = [word for word in word_list if word not in english_punctuations] \n",
    "    \n",
    "    return word_list\n",
    "\n",
    "\n",
    "def word_tag(word_list): #词性标注   \n",
    "    words_tagged = nltk.pos_tag(word_list)\n",
    "    return words_tagged\n",
    "   \n",
    "def result(word_list, words_tagged):\n",
    "    words_count = len(words_tagged)\n",
    "    word_freq = nltk.FreqDist(words_tagged)\n",
    "    d=dict(word_freq)  \n",
    "    noun = 0\n",
    "    adv = 0\n",
    "    adj = 0\n",
    "    for key in d.keys(): \n",
    "        if(key[1]=='NN' or key[1]=='NNP' or key[1]=='NNS' or key[1]=='NNPS' ):\n",
    "            noun+=1\n",
    "        elif(key[1]=='JJ' or key[1]=='JJR' or key[1]=='JJS'):\n",
    "            adj+=1\n",
    "        elif(key[1]=='RB' or key[1]=='RBR' or key[1]=='RBS'):\n",
    "            adv+=1\n",
    "\n",
    "    NounCount = noun/words_count\n",
    "    print('名词占比: {:.2%}'.format(NounCount))\n",
    "    AdjCount = adj/words_count\n",
    "    print('形容词占比: {:.2%}'.format(AdjCount))\n",
    "    AdvCount = adv/words_count\n",
    "    print('副词占比: {:.2%}'.format(AdvCount))\n",
    "\n",
    "\n",
    "with open('D:\\Advanced-Programming\\His_dark_meterials_full_en\\Pullman, Philip - His Dark Materials, Book 1.rtf', 'r')as f:\n",
    "    text = f.read()  \n",
    "print(\"在Book 1.rtf中，各项占比为：\")\n",
    "word_list = word_filter(text)\n",
    "words_tagged = word_tag(word_list)\n",
    "result (word_list, words_tagged)\n",
    "print(\"--------------------------------\")\n",
    "with open('D:\\Advanced-Programming\\His_dark_meterials_full_en\\Pullman, Philip - His Dark Materials, Book 3.rtf', 'r')as f:\n",
    "    text3 = f.read()  \n",
    "print(\"在Book 3.rtf中，各项占比为：\")\n",
    "word_list = word_filter(text3)\n",
    "words_tagged = word_tag(word_list)\n",
    "result (word_list, words_tagged)"
   ]
  },
  {
   "cell_type": "code",
   "execution_count": null,
   "metadata": {},
   "outputs": [],
   "source": []
  }
 ],
 "metadata": {
  "kernelspec": {
   "display_name": "Python 3",
   "language": "python",
   "name": "python3"
  },
  "language_info": {
   "codemirror_mode": {
    "name": "ipython",
    "version": 3
   },
   "file_extension": ".py",
   "mimetype": "text/x-python",
   "name": "python",
   "nbconvert_exporter": "python",
   "pygments_lexer": "ipython3",
   "version": "3.7.0"
  }
 },
 "nbformat": 4,
 "nbformat_minor": 2
}
