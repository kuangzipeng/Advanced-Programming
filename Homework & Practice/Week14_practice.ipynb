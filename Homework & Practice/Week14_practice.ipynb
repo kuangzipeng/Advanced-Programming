{
 "cells": [
  {
   "cell_type": "code",
   "execution_count": 58,
   "metadata": {},
   "outputs": [
    {
     "name": "stdout",
     "output_type": "stream",
     "text": [
      "标准答案分词个数: 29\n"
     ]
    }
   ],
   "source": [
    "text_right=\"在 尼比鲁星球 探查 期间 ，企业号 舰长 柯克 为 营救 史波克 采取 了 胆大妄为 的 举动 ， 几乎 危及 全舰 队员 的 生命 ， 他 也 为此 付出 代价 。\"\n",
    "text_right_list=text_right.split()\n",
    "text_right_list_count = 0 #列表分词个数\n",
    "for i in text_right_list :\n",
    "    text_right_list_count=text_right_list_count+1\n",
    "print(\"标准答案分词个数:\",text_right_list_count)"
   ]
  },
  {
   "cell_type": "code",
   "execution_count": 57,
   "metadata": {},
   "outputs": [
    {
     "name": "stdout",
     "output_type": "stream",
     "text": [
      "分词结果个数： 36\n",
      "分词正确个数： 25\n",
      "准确率(precision) 准确率（P）: 69.44444444444444 %\n",
      "召回率(recall) 召回率（R）: 86.20689655172413 %\n",
      "F-评价: 76.9230769230769 %\n"
     ]
    }
   ],
   "source": [
    "text = \"在尼比鲁星球探查期间，企业号舰长柯克为营救史波克采取了胆大妄为的举动，几乎危及全舰队员的生命，他也为此付出代价。\"\n",
    "\n",
    "# snownlp\n",
    "from snownlp import SnowNLP\n",
    "doc = SnowNLP(text)\n",
    "snownlp_list=doc.words\n",
    "\n",
    "snownlplist_count = 0 #列表分词个数\n",
    "snownlp_right_count = 0 #正确分词数\n",
    "\n",
    "for i in snownlp_list:\n",
    "    snownlplist_count = snownlplist_count+1\n",
    "    if i in text_right_list:\n",
    "         snownlp_right_count = snownlp_right_count + 1\n",
    "            \n",
    "print(\"分词结果个数：\",snownlplist_count)\n",
    "print(\"分词正确个数：\",snownlp_right_count)\n",
    "\n",
    "precision = snownlp_right_count / snownlplist_count * 100\n",
    "recall = snownlp_right_count / text_right_list_count * 100\n",
    "F_measure = 2 * precision * recall / (precision + recall)\n",
    "\n",
    "print(\"准确率(precision) 准确率（P）:\",precision,\"%\")\n",
    "print(\"召回率(recall) 召回率（R）:\",recall,\"%\")\n",
    "print(\"F-评价:\",F_measure,\"%\")"
   ]
  },
  {
   "cell_type": "code",
   "execution_count": 59,
   "metadata": {},
   "outputs": [
    {
     "name": "stdout",
     "output_type": "stream",
     "text": [
      "分词结果个数： 31\n",
      "分词正确个数： 24\n",
      "准确率(precision) 准确率（P）: 77.41935483870968 %\n",
      "召回率(recall) 召回率（R）: 82.75862068965517 %\n",
      "F-评价: 80.0 %\n"
     ]
    }
   ],
   "source": [
    "# jieba\n",
    "import jieba\n",
    "words = jieba.cut(text)\n",
    "jieba_list= [w for w in words]\n",
    "\n",
    "jiebalist_count = 0 #列表分词个数\n",
    "jieba_right_count = 0 ##正确分词数\n",
    "\n",
    "for i in jieba_list:\n",
    "    jiebalist_count= jiebalist_count+1\n",
    "    if i in text_right_list:\n",
    "         jieba_right_count = jieba_right_count + 1\n",
    "            \n",
    "print(\"分词结果个数：\",jiebalist_count)\n",
    "print(\"分词正确个数：\",jieba_right_count)\n",
    "\n",
    "precision = jieba_right_count / jiebalist_count * 100\n",
    "recall = jieba_right_count / text_right_list_count * 100\n",
    "F_measure = 2 * precision * recall / (precision + recall)\n",
    "\n",
    "print(\"准确率(precision) 准确率（P）:\",precision,\"%\")\n",
    "print(\"召回率(recall) 召回率（R）:\",recall,\"%\")\n",
    "print(\"F-评价:\",F_measure,\"%\")"
   ]
  },
  {
   "cell_type": "code",
   "execution_count": 60,
   "metadata": {
    "scrolled": true
   },
   "outputs": [
    {
     "name": "stdout",
     "output_type": "stream",
     "text": [
      "分词结果个数： 33\n",
      "分词正确个数： 27\n",
      "准确率(precision) 准确率（P）: 81.81818181818183 %\n",
      "召回率(recall) 召回率（R）: 93.10344827586206 %\n",
      "F-评价: 87.09677419354838 %\n"
     ]
    }
   ],
   "source": [
    "# stanfordcorenlp\n",
    "from stanfordcorenlp import StanfordCoreNLP\n",
    "nlp = StanfordCoreNLP(r'D:\\Advanced-Programming\\stanford-corenlp-master\\stanfordnlp',lang= 'zh')\n",
    "stanfordcorenlp_list = nlp.word_tokenize(text)\n",
    "\n",
    "stanfordcorenlp_count = 0 #列表分词个数\n",
    "stanford_right_count = 0 ##正确分词数\n",
    "\n",
    "for i in stanfordcorenlp_list :\n",
    "    stanfordcorenlp_count= stanfordcorenlp_count+1\n",
    "    if i in text_right_list:\n",
    "         stanford_right_count = stanford_right_count + 1\n",
    "            \n",
    "print(\"分词结果个数：\",stanfordcorenlp_count)\n",
    "print(\"分词正确个数：\",stanford_right_count)\n",
    "\n",
    "precision = stanford_right_count / stanfordcorenlp_count * 100\n",
    "recall = stanford_right_count / text_right_list_count * 100\n",
    "F_measure = 2 * precision * recall / (precision + recall)\n",
    "\n",
    "print(\"准确率(precision) 准确率（P）:\",precision,\"%\")\n",
    "print(\"召回率(recall) 召回率（R）:\",recall,\"%\")\n",
    "print(\"F-评价:\",F_measure,\"%\")"
   ]
  },
  {
   "cell_type": "code",
   "execution_count": null,
   "metadata": {},
   "outputs": [],
   "source": []
  },
  {
   "cell_type": "code",
   "execution_count": null,
   "metadata": {},
   "outputs": [],
   "source": []
  },
  {
   "cell_type": "code",
   "execution_count": null,
   "metadata": {},
   "outputs": [],
   "source": []
  }
 ],
 "metadata": {
  "kernelspec": {
   "display_name": "Python 3",
   "language": "python",
   "name": "python3"
  },
  "language_info": {
   "codemirror_mode": {
    "name": "ipython",
    "version": 3
   },
   "file_extension": ".py",
   "mimetype": "text/x-python",
   "name": "python",
   "nbconvert_exporter": "python",
   "pygments_lexer": "ipython3",
   "version": "3.7.0"
  }
 },
 "nbformat": 4,
 "nbformat_minor": 2
}
