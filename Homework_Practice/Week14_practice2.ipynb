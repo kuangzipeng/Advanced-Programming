{
 "cells": [
  {
   "cell_type": "code",
   "execution_count": 3,
   "metadata": {
    "collapsed": false
   },
   "outputs": [
    {
     "name": "stdout",
     "output_type": "stream",
     "text": [
      "{'a': 7,\n",
      " 'b': 1,\n",
      " 'c': 4,\n",
      " 'd': 4,\n",
      " 'f': 1,\n",
      " 'k': 1,\n",
      " 'l': 1,\n",
      " 'm': 4,\n",
      " 'n': 12,\n",
      " 'nx': 1,\n",
      " 'p': 2,\n",
      " 'q': 2,\n",
      " 'r': 2,\n",
      " 'u': 13,\n",
      " 'v': 14,\n",
      " 'vd': 1,\n",
      " 'vn': 3,\n",
      " 'w': 8}\n"
     ]
    }
   ],
   "source": [
    "from snownlp import SnowNLP\n",
    "from pprint import pprint\n",
    "text = \"2019年即将结束，与之相伴的是健康保健行业中一些有趣的新趋势。这是一个不断发展的领域，随着新技术和信息的广大普及，新出现的趋势受到了人们的关注。2019年，我们看到越来越多的人选择了新疗法，包括大麻二酚产品的增加，以及致力于改善健康的应用程序和技术的持续增长。\"\n",
    "s = SnowNLP(text)\n",
    "tags = [t for t in s.tags]\n",
    "distr = {}\n",
    "for t in tags:\n",
    "    if not t[1] in distr.keys():\n",
    "        distr[t[1]]=1\n",
    "    else:\n",
    "        distr[t[1]]+=1\n",
    "pprint(distr)\n"
   ]
  },
  {
   "cell_type": "code",
   "execution_count": 23,
   "metadata": {
    "collapsed": false
   },
   "outputs": [
    {
     "name": "stdout",
     "output_type": "stream",
     "text": [
      "2019 CD\n",
      "is VBZ\n",
      "coming VBG\n",
      "to IN\n",
      "a DT\n",
      "close NN\n",
      ", ,\n",
      "and CC\n",
      "with IN\n",
      "it PRP\n",
      ", ,\n",
      "we PRP\n",
      "'ve VB\n",
      "seen VBN\n",
      "some DT\n",
      "interesting JJ\n",
      "trends NNS\n",
      "that WDT\n",
      "come VBP\n",
      "and CC\n",
      "go VB\n",
      "in IN\n",
      "the DT\n",
      "health NN\n",
      "and CC\n",
      "wellness NN\n",
      "industry NN\n",
      ". .\n",
      "--------\n"
     ]
    },
    {
     "data": {
      "text/plain": [
       "[a close,\n",
       " it,\n",
       " we,\n",
       " some interesting trends,\n",
       " the health and wellness industry,\n",
       " a constantly evolving area,\n",
       " areas,\n",
       " interest,\n",
       " new trends,\n",
       " new technology,\n",
       " information,\n",
       " the broader public,\n",
       " we,\n",
       " an interesting shift,\n",
       " new therapies,\n",
       " an increase,\n",
       " CBD-based products,\n",
       " a continued rise,\n",
       " the number,\n",
       " apps,\n",
       " technology,\n",
       " well-being,\n",
       " health]"
      ]
     },
     "execution_count": 23,
     "metadata": {},
     "output_type": "execute_result"
    }
   ],
   "source": [
    "import spacy\n",
    "\n",
    "nlp = spacy.load('en')\n",
    "text=\"2019 is coming to a close, and with it, we've seen some interesting trends that come and go in the health and wellness industry. This is a constantly evolving area where areas of interest come and go with new trends appearing as new technology and information are made accessible to the broader public. In 2019, we saw an interesting shift toward new therapies, including an increase in CBD-based products, as well as a continued rise in the number of apps and technology to improve well-being and health.\"\n",
    "doc = nlp(text)\n",
    "list(doc.sents)\n",
    "\n",
    "for w in list(doc.sents)[0]:print(w,w.tag_)\n",
    "all_tags = {w.pos: w.pos_ for w in doc}\n",
    "print(\"--------\")\n",
    "# 命名实体检测\n",
    "[ (w,w.label_)  for w in doc.ents]\n",
    "\n",
    "# 名词性短语\n",
    "[np for np in doc.noun_chunks]\n"
   ]
  },
  {
   "cell_type": "code",
   "execution_count": null,
   "metadata": {
    "collapsed": true
   },
   "outputs": [],
   "source": []
  }
 ],
 "metadata": {
  "kernelspec": {
   "display_name": "Python 3",
   "language": "python",
   "name": "python3"
  },
  "language_info": {
   "codemirror_mode": {
    "name": "ipython",
    "version": 3
   },
   "file_extension": ".py",
   "mimetype": "text/x-python",
   "name": "python",
   "nbconvert_exporter": "python",
   "pygments_lexer": "ipython3",
   "version": "3.6.0"
  }
 },
 "nbformat": 4,
 "nbformat_minor": 2
}
