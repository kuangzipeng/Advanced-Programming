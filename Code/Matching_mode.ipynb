{
 "cells": [
  {
   "cell_type": "code",
   "execution_count": 35,
   "metadata": {},
   "outputs": [
    {
     "name": "stdout",
     "output_type": "stream",
     "text": [
      "该条件下结果为： ['Apple', 'apple']\n",
      "该条件下结果为： ['Jason', 'Jason']\n",
      "-----------------\n",
      "该条件下结果为： ['Apple.', 'apples']\n",
      "该条件下结果为： ['Jason', 'Jason2']\n",
      "-----------------\n"
     ]
    }
   ],
   "source": [
    "import re\n",
    "import pandas as pd\n",
    "from nltk.stem import WordNetLemmatizer\n",
    "from nltk.tokenize import word_tokenize\n",
    "\n",
    "def permissive(term,text):\n",
    "    pattern = \"\"\n",
    "    for i in range(len(term)):\n",
    "        if term[i].isupper():\n",
    "            pattern += term[i]\n",
    "        else:\n",
    "            pattern += \"[\"+term[i]+term[i].upper()+\"]\"\n",
    "    matching = re.compile(pattern).findall(text)\n",
    "    return matching\n",
    "\n",
    "def yes(term,text):\n",
    "    pattern=term\n",
    "    matching = re.compile(pattern).findall(text)\n",
    "    return matching\n",
    "\n",
    "def no(term,text):\n",
    "    pattern=term\n",
    "    matching = re.compile(term,re.I).findall(text)\n",
    "    return matching\n",
    "\n",
    "def half_prefix(term,text):\n",
    "    pattern =r\"\\b\"+term+\"\\S{,\"+str(len(term))+\"}\"+r\"\\b\"\n",
    "    matching = re.compile(pattern,re.I).findall(text)\n",
    "    return matching\n",
    "\n",
    "def fuzzy(term,text):\n",
    "    pattern = term\n",
    "    matching = re.compile(pattern,re.I).findall(text)\n",
    "    return matching\n",
    "\n",
    "def exact(term,text):\n",
    "    pattern = r\"\\b\" + term + r\"\\b\"\n",
    "    matching = re.compile(pattern,re.I).findall(text)\n",
    "    return matching\n",
    "\n",
    "def check_terms(term,source_text,case_sensitive,matching_mode):\n",
    "    if matching_mode==\"Fuzzy\":\n",
    "        matching=fuzzy(term, source_text)\n",
    "    elif matching_mode==\"HalfPrefix\":\n",
    "        matching=half_prefix(term, source_text)\n",
    "    elif matching_mode==\"Exact\":\n",
    "        matching=exact(term, source_text)\n",
    "    processed_text=\" \".join(matching)\n",
    "\n",
    "    if case_sensitive==\"Yes\":\n",
    "        matching=yes(term,processed_text)\n",
    "    elif case_sensitive==\"No\":\n",
    "        matching=no(term,processed_text)\n",
    "    elif case_sensitive==\"Permissive\":\n",
    "        matching=permissive(term, processed_text)\n",
    "\n",
    "    print(\"该条件下结果为：\",matching)\n",
    "\n",
    "term = [\"Apple\",\"Jason\"]\n",
    "source_text = \"Jason bought an Apple.Jason2 ate apples.\"\n",
    "case_sensitive = [\"No\"]\n",
    "matching_mode = [\"Fuzzy\",\"HalfPrefix\"]\n",
    "for mode in matching_mode:\n",
    "    for each in term:\n",
    "        check_terms(each,source_text,case_sensitive,mode)\n",
    "    print(\"-----------------\")\n",
    "# for each in termlis:\n",
    "#     check_terms(each,source_text,case_sensitive2,matching_mode2)\n"
   ]
  },
  {
   "cell_type": "code",
   "execution_count": null,
   "metadata": {},
   "outputs": [],
   "source": []
  }
 ],
 "metadata": {
  "kernelspec": {
   "display_name": "Python 3",
   "language": "python",
   "name": "python3"
  },
  "language_info": {
   "codemirror_mode": {
    "name": "ipython",
    "version": 3
   },
   "file_extension": ".py",
   "mimetype": "text/x-python",
   "name": "python",
   "nbconvert_exporter": "python",
   "pygments_lexer": "ipython3",
   "version": "3.7.0"
  }
 },
 "nbformat": 4,
 "nbformat_minor": 2
}
